{
 "cells": [
  {
   "cell_type": "code",
   "execution_count": 2,
   "metadata": {},
   "outputs": [
    {
     "name": "stdout",
     "output_type": "stream",
     "text": [
      "enter the filename of your ENG file:AeroTech_J450.eng\n"
     ]
    }
   ],
   "source": [
    "import numpy as np\n",
    "import matplotlib.pyplot as plt\n",
    "import scipy as sp\n",
    "import scipy.interpolate as interp\n",
    "import scipy.integrate as integ\n",
    "import pandas as pd\n",
    "\n",
    "%matplotlib notebook\n",
    "\n",
    "MOTOR_ENG_FILE = input(\"enter the filename of your ENG file:\")"
   ]
  },
  {
   "cell_type": "code",
   "execution_count": 4,
   "metadata": {},
   "outputs": [
    {
     "data": {
      "text/plain": [
       "<matplotlib.legend.Legend at 0x7f80b5e40e80>"
      ]
     },
     "execution_count": 4,
     "metadata": {},
     "output_type": "execute_result"
    },
    {
     "data": {
      "image/png": "[encoded data removed]",
      "text/plain": [
       "<Figure size 432x288 with 1 Axes>"
      ]
     },
     "metadata": {
      "needs_background": "light"
     },
     "output_type": "display_data"
    }
   ],
   "source": [
    "# First we're gonna define our figure\n",
    "plt.figure()\n",
    "plt.title(\"motor thrust (N) vs time (s)\")\n",
    "plt.xlabel(\"time (s)\")\n",
    "plt.ylabel(\"thrust (N)\")\n",
    "\n",
    "# Then we load motor data from a text file\n",
    "motor = np.loadtxt(MOTOR_ENG_FILE, skiprows=2)\n",
    "\n",
    "# By interploating it we are basically saying that if we want the thrust at a time we don't\n",
    "# have data for, draw a line between the point before and the point after using in this example\n",
    "# y=mx+b and evaluate that function at the time we want\n",
    "motorinterp = sp.interpolate.interp1d(motor[::,0], motor[::,1])\n",
    "\n",
    "# this is a model of our motor thrust as a function od time\n",
    "def motor_model(t):\n",
    "    # If we ask for a time before or after the range we assume thrust is zero\n",
    "    if t > np.max(motor[::,0]) or t < np.min(motor[::,0]):\n",
    "        return 0\n",
    "    # Otherwise we use the interpolate function\n",
    "    return motorinterp(t)\n",
    "\n",
    "# Plot motor thrust interpolation and actual datapoints\n",
    "plt.plot(motor[::,0], motor[::,1], \"b.\", label=\"Datapoints\")\n",
    "plt.plot(np.linspace(0, np.max(motor[::,0]), 300), [motor_model(i) for i in np.linspace(0, np.max(motor[::,0]), 300)], \"r-\", label=\"Interpolation\")\n",
    "plt.legend()"
   ]
  },
  {
   "cell_type": "code",
   "execution_count": null,
   "metadata": {},
   "outputs": [],
   "source": [
    "# We're going to assume the mass of the motor decreases linearly from the beginning to the end of the burn\n",
    "# Here we are basically doing interpolation ourselves (this is all Kg)\n",
    "\n",
    "def j450_mass(t):\n",
    "    MASS_INIT = 1223 / 1000\n",
    "    MASS_FINAL = (1223 - 510) / 1000\n",
    "    BURN_TIME = 2.3\n",
    "    if t < 0:\n",
    "        return MASS_INIT\n",
    "    if t > BURN_TIME:\n",
    "        return MASS_FINAL\n",
    "    # y = mx + b\n",
    "    return ((MASS_FINAL - MASS_INIT)/BURN_TIME)*t + MASS_INIT\n",
    "\n",
    "# Lets plot it just to make sure it looks like we want\n",
    "plt.figure()\n",
    "plt.xlabel(\"time\")\n",
    "plt.ylabel(\"Motor Mass (kg)\")\n",
    "plt.plot(np.linspace(-1, 3, 40), [j450_mass(i) for i in np.linspace(-1, 3, 40)], \"b-\")"
   ]
  },
  {
   "cell_type": "code",
   "execution_count": null,
   "metadata": {},
   "outputs": [],
   "source": [
    "# Here we're gonna do some fancy stuff to load a CSV into an array with pandas\n",
    "# its a pretty cool library and yall should look at it\n",
    "dat = pd.read_csv(\"LDRS37-PUDDLEJUMPER3-FLIGHT3-J450DM.csv\")\n",
    "times = np.array(dat['Time@Axial Accel (Gs)'])[0:11200//2]\n",
    "accels = (np.array(dat['Axial Accel (Gs)']) * 9.8)[0:11200//2]\n",
    "\n",
    "# This is a tad jank, but we're gonna determine our current velocity at a time\n",
    "# by integrating our acceleration\n",
    "velocities = np.cumsum(accels[:-1] * (times[1::] - times[:-1]))\n",
    "velocities = np.append(velocities, velocities[-1])\n",
    "\n",
    "#build and interpolation function and plot it\n",
    "velocity_interp = sp.interpolate.interp1d(times, velocities)\n",
    "\n",
    "plt.plot(times, velocity_interp(times), \"b-\")"
   ]
  },
  {
   "cell_type": "code",
   "execution_count": null,
   "metadata": {},
   "outputs": [],
   "source": [
    "# We're gonna use a = fnet/m and drag = B1v + B2v*v\n",
    "\n",
    "def acceleration_model(t, B1, B2, M, tshift):\n",
    "    t = t - tshift\n",
    "    # If we haven't launched we're sitting on the pad and are gonna read an acceleration of 9.8m/s/s\n",
    "    if t <= 0:\n",
    "        return 9.8\n",
    "    # Get total mass\n",
    "    m = M + j450_mass(t)\n",
    "    #compute Fnet\n",
    "    fnet = (j450_model(t) - 9.8*m - B1*velocity_interp(t) - B2*velocity_interp(t)**2)\n",
    "    return fnet / m"
   ]
  },
  {
   "cell_type": "code",
   "execution_count": null,
   "metadata": {},
   "outputs": [],
   "source": [
    "# Make our initial guesses on B1, B2, Dry mass (it was about 65 ounces but I dont remember), and motor start time\n",
    "par0 = [-1, -1, 1.85, 0.15]\n",
    "# Do a linear least squares fit on our data to try to get more accurate params\n",
    "par, cov = sp.optimize.curve_fit(np.vectorize(acceleration_model), times, accels, par0)\n",
    "\n",
    "# Print out our parameters\n",
    "print(par)\n",
    "\n",
    "# Graph measured acceleration and our model on top of one another\n",
    "trange = np.linspace(0, 14, 200)\n",
    "plt.plot(trange, np.vectorize(acceleration_model)(trange, *par), \"r-\", label=\"\")\n",
    "plt.plot(times, accels, \"b-\")"
   ]
  }
 ],
 "metadata": {
  "kernelspec": {
   "display_name": "Python 3",
   "language": "python",
   "name": "python3"
  },
  "language_info": {
   "codemirror_mode": {
    "name": "ipython",
    "version": 3
   },
   "file_extension": ".py",
   "mimetype": "text/x-python",
   "name": "python",
   "nbconvert_exporter": "python",
   "pygments_lexer": "ipython3",
   "version": "3.7.2"
  }
 },
 "nbformat": 4,
 "nbformat_minor": 2
}
